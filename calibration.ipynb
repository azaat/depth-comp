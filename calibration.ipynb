{
 "cells": [
  {
   "cell_type": "code",
   "execution_count": 57,
   "id": "938d1549",
   "metadata": {},
   "outputs": [],
   "source": [
    "import numpy as np\n",
    "import cv2\n",
    "import glob\n",
    "import matplotlib.pyplot as plt\n",
    "import os\n",
    "import matplotlib\n",
    "import csv\n",
    "matplotlib.rcParams['figure.figsize'] = (20, 10)"
   ]
  },
  {
   "cell_type": "markdown",
   "id": "a53b9091",
   "metadata": {},
   "source": [
    "## Change the path to the extracted recording"
   ]
  },
  {
   "cell_type": "code",
   "execution_count": 184,
   "id": "fa54c947",
   "metadata": {},
   "outputs": [],
   "source": [
    "path = \"../1811calib\""
   ]
  },
  {
   "cell_type": "code",
   "execution_count": 185,
   "id": "c4f6d2dc",
   "metadata": {},
   "outputs": [],
   "source": [
    "pathL = os.path.join(path, '1')\n",
    "pathR = os.path.join(path, '2')"
   ]
  },
  {
   "cell_type": "code",
   "execution_count": 201,
   "id": "4762fcf3",
   "metadata": {},
   "outputs": [],
   "source": [
    "CH_W = 7\n",
    "CH_H = 5\n",
    "EVERY_NTH_FRAME = 50\n",
    "# Square size in mm \n",
    "SQUARE_SIZE = 30\n",
    "# Termination criteria for refining the detected corners (taken from openCV docs as reasonable params)\n",
    "criteria = (cv2.TERM_CRITERIA_EPS + cv2.TERM_CRITERIA_MAX_ITER, 30, 0.001)\n",
    "\n",
    "\n",
    "objp = np.zeros((CH_H*CH_W,3), np.float32)\n",
    "objp[:,:2] = np.mgrid[0:CH_H,0:CH_W].T.reshape(-1,2)\n",
    "objp *= SQUARE_SIZE"
   ]
  },
  {
   "cell_type": "code",
   "execution_count": 202,
   "id": "608fec47",
   "metadata": {},
   "outputs": [
    {
     "name": "stdout",
     "output_type": "stream",
     "text": [
      "../1811calib/11637256585173648579.png\n",
      "Time difference: -39250 ns\n",
      "../1811calib/11637256586840049232.png\n",
      "Time difference: -37712 ns\n",
      "../1811calib/11637256588506446653.png\n",
      "Time difference: -38865 ns\n",
      "../1811calib/11637256590172849460.png\n",
      "Time difference: -40173 ns\n",
      "../1811calib/11637256591839247920.png\n",
      "Time difference: -38673 ns\n",
      "../1811calib/11637256593505649419.png\n",
      "Time difference: -41788 ns\n",
      "../1811calib/11637256595172045879.png\n",
      "Time difference: -38865 ns\n",
      "../1811calib/11637256596838443263.png\n",
      "Time difference: -35019 ns\n",
      "../1811calib/11637256598504846223.png\n",
      "Time difference: -40557 ns\n",
      "../1811calib/11637256600171244876.png\n",
      "Time difference: -39289 ns\n",
      "../1811calib/11637256601837645990.png\n",
      "Time difference: -42019 ns\n",
      "../1811calib/11637256603504039835.png\n",
      "Time difference: -34712 ns\n",
      "../1811calib/11637256605170447949.png\n",
      "Time difference: -44788 ns\n",
      "../1811calib/11637256606836842525.png\n",
      "Time difference: -37865 ns\n",
      "../1811calib/11637256608503242216.png\n",
      "Time difference: -37596 ns\n",
      "../1811calib/11637256610169647984.png\n",
      "Time difference: -44442 ns\n",
      "../1811calib/11637256611836044406.png\n",
      "Time difference: -42096 ns\n",
      "../1811calib/11637256613502441789.png\n",
      "Time difference: -41942 ns\n",
      "../1811calib/11637256615168841519.png\n",
      "Time difference: -39558 ns\n",
      "../1811calib/11637256616835242402.png\n",
      "Time difference: -40365 ns\n",
      "../1811calib/11637256618501637824.png\n",
      "Time difference: -37480 ns\n",
      "../1811calib/11637256620168041092.png\n",
      "Time difference: -39904 ns\n",
      "../1811calib/11637256621834439745.png\n",
      "Time difference: -42712 ns\n",
      "../1811calib/11637256623500838552.png\n",
      "Time difference: -37712 ns\n",
      "../1811calib/11637256625167238550.png\n",
      "Time difference: -41904 ns\n",
      "../1811calib/11637256626833637126.png\n",
      "Time difference: -39173 ns\n",
      "../1811calib/11637256628500038240.png\n",
      "Time difference: -41596 ns\n",
      "../1811calib/11637256630166436931.png\n",
      "Time difference: -39634 ns\n",
      "../1811calib/11637256631832835738.png\n",
      "Time difference: -40596 ns\n",
      "../1811calib/11637256633499235083.png\n",
      "Time difference: -38904 ns\n",
      "../1811calib/11637256635165633851.png\n",
      "Time difference: -38019 ns\n",
      "../1811calib/11637256636832036119.png\n",
      "Time difference: -41250 ns\n",
      "../1811calib/11637256638498437310.png\n",
      "Time difference: -44827 ns\n"
     ]
    }
   ],
   "source": [
    "\n",
    "img_ptsL = []\n",
    "img_ptsR = []\n",
    "obj_pts = []\n",
    "counter = 0\n",
    "\n",
    "with open(os.path.join(path, 'match.csv')) as csvfile:\n",
    "    csvreader = csv.reader(csvfile, delimiter=',')\n",
    "    for row in csvreader:\n",
    "        counter += 1\n",
    "        if counter % EVERY_NTH_FRAME == 0:\n",
    "            print(f'{pathL}{row[1]}.png')\n",
    "            imgL = cv2.imread(os.path.join(pathL, f'{row[2]}.png'))\n",
    "            imgR = cv2.imread(os.path.join(pathR, f'{row[1]}.png'))\n",
    "            print(f'Time difference: {int(row[2]) - int(row[1])} ns')\n",
    "            imgL_gray = cv2.imread(os.path.join(pathL, f'{row[2]}.png'),0)\n",
    "            imgR_gray = cv2.imread(os.path.join(pathR, f'{row[1]}.png'),0)\n",
    "\n",
    "            outputL = imgL.copy()\n",
    "            outputR = imgR.copy()\n",
    "\n",
    "            retR, cornersR =  cv2.findChessboardCorners(outputR,(CH_H,CH_W),None)\n",
    "            retL, cornersL = cv2.findChessboardCorners(outputL,(CH_H,CH_W),None)\n",
    "\n",
    "            if retR and retL:\n",
    "                obj_pts.append(objp)\n",
    "                cv2.cornerSubPix(imgR_gray,cornersR,(11,11),(-1,-1),criteria)\n",
    "                cv2.cornerSubPix(imgL_gray,cornersL,(11,11),(-1,-1),criteria)\n",
    "                cv2.drawChessboardCorners(outputR,(CH_H,CH_W),cornersR,retR)\n",
    "                cv2.drawChessboardCorners(outputL,(CH_H,CH_W),cornersL,retL)\n",
    "\n",
    "                img_ptsL.append(cornersL)\n",
    "                img_ptsR.append(cornersR)\n",
    "\n",
    "\n",
    "# Calibrating left camera\n",
    "retL, mtxL, distL, rvecsL, tvecsL = cv2.calibrateCamera(obj_pts,img_ptsL,imgL_gray.shape[::-1],None,None)\n",
    "\n",
    "hL,wL= imgL_gray.shape[:2]\n",
    "new_mtxL, roiL= cv2.getOptimalNewCameraMatrix(mtxL,distL,(wL,hL),1,(wL,hL))\n",
    "\n",
    "# Calibrating right camera\n",
    "retR, mtxR, distR, rvecsR, tvecsR = cv2.calibrateCamera(obj_pts,img_ptsR,imgR_gray.shape[::-1],None,None)\n",
    "\n",
    "hR,wR= imgR_gray.shape[:2]\n",
    "new_mtxR, roiR= cv2.getOptimalNewCameraMatrix(mtxR,distR,(wR,hR),1,(wR,hR))"
   ]
  },
  {
   "cell_type": "code",
   "execution_count": 203,
   "id": "6c2e2407",
   "metadata": {},
   "outputs": [],
   "source": [
    "np.savez(\"intrinsic_data_left\", mtx=mtxL, dist=distL, rvecs=rvecsL, tvecs=tvecsL)\n",
    "np.savez(\"intrinsic_data_right\", mtx=mtxR, dist=distR, rvecs=rvecsR, tvecs=tvecsR)"
   ]
  },
  {
   "cell_type": "markdown",
   "id": "ae541015",
   "metadata": {},
   "source": [
    "# Stereo calibration"
   ]
  },
  {
   "cell_type": "code",
   "execution_count": 204,
   "id": "8b74233d",
   "metadata": {},
   "outputs": [],
   "source": [
    "flags = 0\n",
    "flags |= cv2.CALIB_FIX_INTRINSIC\n",
    "criteria_stereo= (cv2.TERM_CRITERIA_EPS + cv2.TERM_CRITERIA_MAX_ITER, 30, 0.001)\n",
    "\n",
    "retS, new_mtxL, distL, new_mtxR, distR, Rot, Trns, Emat, Fmat = cv2.stereoCalibrate(obj_pts, img_ptsL, img_ptsR, new_mtxL, distL, new_mtxR, distR, imgL_gray.shape[::-1], criteria_stereo, flags)"
   ]
  },
  {
   "cell_type": "code",
   "execution_count": 205,
   "id": "4bd43b7a",
   "metadata": {},
   "outputs": [],
   "source": [
    "rectify_scale=1\n",
    "rect_l, rect_r, proj_mat_l, proj_mat_r, Q, roiL, roiR= cv2.stereoRectify(new_mtxL, distL, new_mtxR, distR, imgL_gray.shape[::-1], Rot, Trns, rectify_scale,(0,0))"
   ]
  },
  {
   "cell_type": "code",
   "execution_count": 206,
   "id": "246e2093",
   "metadata": {},
   "outputs": [],
   "source": [
    "np.savez(\"extrinsic_data\", Q=Q)"
   ]
  },
  {
   "cell_type": "markdown",
   "id": "2b58dbca",
   "metadata": {},
   "source": [
    "## stereoCalibrate retval\n",
    "\n",
    "According to the docs, represents the final value of the re-projection error.\n"
   ]
  },
  {
   "cell_type": "code",
   "execution_count": 207,
   "id": "56810c49",
   "metadata": {},
   "outputs": [
    {
     "data": {
      "text/plain": [
       "0.767956792818179"
      ]
     },
     "execution_count": 207,
     "metadata": {},
     "output_type": "execute_result"
    }
   ],
   "source": [
    "retS"
   ]
  },
  {
   "cell_type": "code",
   "execution_count": 208,
   "id": "c323af78",
   "metadata": {},
   "outputs": [
    {
     "data": {
      "text/plain": [
       "array([[-99.57293254],\n",
       "       [ -0.23377043],\n",
       "       [ -0.37056768]])"
      ]
     },
     "execution_count": 208,
     "metadata": {},
     "output_type": "execute_result"
    }
   ],
   "source": [
    "Trns"
   ]
  },
  {
   "cell_type": "markdown",
   "id": "feb0d3f0",
   "metadata": {},
   "source": [
    " - **this translation value is off by a few mm from real-world situation (measured by a ruler), although the returned reproj error is not that big?**\n",
    " \n",
    " Should be something like: (-98, ~0, ~8)"
   ]
  },
  {
   "cell_type": "code",
   "execution_count": 75,
   "id": "6b81cacf",
   "metadata": {},
   "outputs": [
    {
     "data": {
      "text/plain": [
       "array([[ 1.00000000e+00,  0.00000000e+00,  0.00000000e+00,\n",
       "        -3.79180916e+02],\n",
       "       [ 0.00000000e+00,  1.00000000e+00,  0.00000000e+00,\n",
       "        -2.62139257e+02],\n",
       "       [ 0.00000000e+00,  0.00000000e+00,  0.00000000e+00,\n",
       "         4.75456100e+02],\n",
       "       [ 0.00000000e+00,  0.00000000e+00,  9.94764095e-03,\n",
       "        -0.00000000e+00]])"
      ]
     },
     "execution_count": 75,
     "metadata": {},
     "output_type": "execute_result"
    }
   ],
   "source": [
    "Q"
   ]
  },
  {
   "cell_type": "code",
   "execution_count": 11,
   "id": "d9c482af",
   "metadata": {},
   "outputs": [
    {
     "name": "stdout",
     "output_type": "stream",
     "text": [
      "Saving parameters ......\n"
     ]
    }
   ],
   "source": [
    "Left_Stereo_Map= cv2.initUndistortRectifyMap(new_mtxL, distL, rect_l, proj_mat_l,\n",
    "                                             imgL_gray.shape[::-1], cv2.CV_16SC2)\n",
    "Right_Stereo_Map= cv2.initUndistortRectifyMap(new_mtxR, distR, rect_r, proj_mat_r,\n",
    "                                              imgR_gray.shape[::-1], cv2.CV_16SC2)\n",
    "\n",
    "print(\"Saving parameters ......\")\n",
    "cv_file = cv2.FileStorage(\"improved_params2.xml\", cv2.FILE_STORAGE_WRITE)\n",
    "cv_file.write(\"Left_Stereo_Map_x\",Left_Stereo_Map[0])\n",
    "cv_file.write(\"Left_Stereo_Map_y\",Left_Stereo_Map[1])\n",
    "cv_file.write(\"Right_Stereo_Map_x\",Right_Stereo_Map[0])\n",
    "cv_file.write(\"Right_Stereo_Map_y\",Right_Stereo_Map[1])\n",
    "cv_file.write(\"Trns\",Trns)\n",
    "cv_file.release()"
   ]
  },
  {
   "cell_type": "code",
   "execution_count": null,
   "id": "de957ec8",
   "metadata": {},
   "outputs": [],
   "source": []
  }
 ],
 "metadata": {
  "kernelspec": {
   "display_name": "Python 3",
   "language": "python",
   "name": "python3"
  },
  "language_info": {
   "codemirror_mode": {
    "name": "ipython",
    "version": 3
   },
   "file_extension": ".py",
   "mimetype": "text/x-python",
   "name": "python",
   "nbconvert_exporter": "python",
   "pygments_lexer": "ipython3",
   "version": "3.6.9"
  }
 },
 "nbformat": 4,
 "nbformat_minor": 5
}
